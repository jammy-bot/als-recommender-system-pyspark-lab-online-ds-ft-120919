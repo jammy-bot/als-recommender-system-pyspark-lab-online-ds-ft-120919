{
  "nbformat": 4,
  "nbformat_minor": 0,
  "metadata": {
    "kernelspec": {
      "display_name": "Python 3",
      "language": "python",
      "name": "python3"
    },
    "language_info": {
      "codemirror_mode": {
        "name": "ipython",
        "version": 3
      },
      "file_extension": ".py",
      "mimetype": "text/x-python",
      "name": "python",
      "nbconvert_exporter": "python",
      "pygments_lexer": "ipython3",
      "version": "3.7.3"
    },
    "colab": {
      "name": "index.ipynb",
      "provenance": []
    }
  },
  "cells": [
    {
      "cell_type": "markdown",
      "metadata": {
        "id": "Y-6GIrpp1MB0",
        "colab_type": "text"
      },
      "source": [
        "# Building a Recommendation System in PySpark - Lab\n",
        "\n",
        "## Introduction\n",
        "\n",
        "In this lab, we will implement a movie recommendation system using ALS in Spark programming environment. Spark's machine learning library `ml` comes packaged with a very efficient implementation of the ALS algorithm that we looked at in the previous lesson. The lab will require you to put into practice your Spark programming skills for creating and manipulating PySpark DataFrames. We will go through a step-by-step process into developing a movie recommendation system using ALS and PySpark using the `MovieLens` dataset that we used in a previous lab.\n",
        "\n",
        "Note: You are advised to refer to [PySpark documentation](http://spark.apache.org/docs/2.2.0/api/python/index.html) heavily for completing this lab as it will introduce a few new methods. \n",
        "\n",
        "\n",
        "## Objectives\n",
        "\n",
        "In this lab you will: \n",
        "\n",
        "- Use Spark to train and cross-validate an ALS model \n",
        "- Introduce a new user with rating to a rating matrix and make recommendations for them \n",
        "- Create a function that will return the top n recommendations for a user "
      ]
    },
    {
      "cell_type": "markdown",
      "metadata": {
        "id": "9flZfAKF1MB1",
        "colab_type": "text"
      },
      "source": [
        "## Building a Recommendation System\n",
        "\n",
        "We have seen how recommendation systems have played an integral part in the success of Amazon (books, items), Pandora/Spotify (music), Google (news, search), YouTube (videos) etc.  For Amazon, these systems bring more than 30% of their total revenue. For Netflix, 75% of movies that people watch are based on some sort of recommendation.\n",
        "\n",
        "> The goal of recommendation systems is to find what is likely to be of interest to the user. This enables organizations to offer a high level of personalization and customer tailored services.\n",
        "\n",
        "\n",
        "For online video content services like Netflix and Hulu, the need to build robust movie recommendation systems is extremely important. An example of a recommendation system is such as this:\n",
        "\n",
        "1.    User A watches Game of Thrones and Breaking Bad \n",
        "2.    User B performs a search query for Game of Thrones \n",
        "3.    The system suggests Breaking Bad to user B from data collected about user A \n",
        "\n",
        "\n",
        "This lab will guide you through a step-by-step process into developing such a movie recommendation system. We will use the `MovieLens` dataset to build a movie recommendation system using the collaborative filtering technique with Spark's Alternating Least Squares implementation. After building that recommendation system, we will go through the process of adding a new user to the dataset with some new ratings and obtaining new recommendations for that user.\n",
        "\n",
        "### Importing the Data\n",
        "\n",
        "* Initialize a `SparkSession` object\n",
        "* Import the dataset found at `'./data/ratings.csv'` into a PySpark DataFrame"
      ]
    },
    {
      "cell_type": "code",
      "metadata": {
        "id": "82RA19Y5ZLT3",
        "colab_type": "code",
        "colab": {}
      },
      "source": [
        "import os\n",
        "os.environ[\"JAVA_HOME\"] = \"/usr/lib/jvm/java-8-openjdk-amd64\"\n",
        "os.environ[\"SPARK_HOME\"] = \"/content/spark-2.4.5-bin-hadoop2.7\""
      ],
      "execution_count": 0,
      "outputs": []
    },
    {
      "cell_type": "code",
      "metadata": {
        "id": "0RsajZD9ZAoh",
        "colab_type": "code",
        "colab": {}
      },
      "source": [
        "!apt-get install openjdk-8-jdk-headless -qq > /dev/null\n",
        "!wget -q https://downloads.apache.org/spark/spark-2.4.5/spark-2.4.5-bin-hadoop2.7.tgz\n",
        "!tar xf spark-2.4.5-bin-hadoop2.7.tgz\n",
        "!pip install -q findspark\n"
      ],
      "execution_count": 0,
      "outputs": []
    },
    {
      "cell_type": "code",
      "metadata": {
        "id": "PJEAuZa_ZPCa",
        "colab_type": "code",
        "colab": {}
      },
      "source": [
        "# import necessary libraries\n",
        "import findspark\n",
        "findspark.init()"
      ],
      "execution_count": 0,
      "outputs": []
    },
    {
      "cell_type": "code",
      "metadata": {
        "id": "UbcQkwqdFirI",
        "colab_type": "code",
        "colab": {}
      },
      "source": [
        "import pyspark\n",
        "from pyspark import SparkContext\n",
        "sc = pyspark.SparkContext('local[*]')"
      ],
      "execution_count": 0,
      "outputs": []
    },
    {
      "cell_type": "code",
      "metadata": {
        "id": "_x4ygiPP1MB2",
        "colab_type": "code",
        "colab": {}
      },
      "source": [
        "# import necessary libraries\n",
        "from pyspark.sql import SparkSession\n",
        "\n",
        "# instantiate SparkSession object\n",
        "#spark = SparkSession.builder.master(\"local\").getOrCreate()\n",
        "\n",
        "spark = SparkSession\\\n",
        "        .builder\\\n",
        "        .appName('ALSExample').config('spark.driver.host', 'localhost')\\\n",
        "        .getOrCreate()"
      ],
      "execution_count": 0,
      "outputs": []
    },
    {
      "cell_type": "code",
      "metadata": {
        "id": "H4swDjLe1cEJ",
        "colab_type": "code",
        "colab": {}
      },
      "source": [
        ""
      ],
      "execution_count": 0,
      "outputs": []
    },
    {
      "cell_type": "code",
      "metadata": {
        "id": "gnxrBI6R3xXJ",
        "colab_type": "code",
        "colab": {}
      },
      "source": [
        "# from google.colab import drive\n",
        "# drive.mount('/content/drive')"
      ],
      "execution_count": 0,
      "outputs": []
    },
    {
      "cell_type": "code",
      "metadata": {
        "id": "0-xe-9Aj1MB6",
        "colab_type": "code",
        "colab": {}
      },
      "source": [
        "# read in the dataset into pyspark DataFrame\n",
        "movie_ratings = spark.read.csv('/content/drive/My Drive/data/ratings.csv', \n",
        "                               header='true', \n",
        "                               inferSchema='true')"
      ],
      "execution_count": 0,
      "outputs": []
    },
    {
      "cell_type": "markdown",
      "metadata": {
        "id": "qKnKSZIQ1MB-",
        "colab_type": "text"
      },
      "source": [
        "Check the data types of each of the columns to ensure that they are a type that makes sense given the column."
      ]
    },
    {
      "cell_type": "code",
      "metadata": {
        "id": "cVguVjS21MB-",
        "colab_type": "code",
        "colab": {
          "base_uri": "https://localhost:8080/",
          "height": 87
        },
        "outputId": "8a06f2e3-b294-4868-e362-228b412c6a3b"
      },
      "source": [
        "movie_ratings.dtypes"
      ],
      "execution_count": 11,
      "outputs": [
        {
          "output_type": "execute_result",
          "data": {
            "text/plain": [
              "[('userId', 'int'),\n",
              " ('movieId', 'int'),\n",
              " ('rating', 'double'),\n",
              " ('timestamp', 'int')]"
            ]
          },
          "metadata": {
            "tags": []
          },
          "execution_count": 11
        }
      ]
    },
    {
      "cell_type": "markdown",
      "metadata": {
        "id": "wrt8EVm51MCD",
        "colab_type": "text"
      },
      "source": [
        "We aren't going to need the timestamp, so we can go ahead and remove that column."
      ]
    },
    {
      "cell_type": "code",
      "metadata": {
        "id": "DRVNQr1n1MCD",
        "colab_type": "code",
        "colab": {}
      },
      "source": [
        "movie_ratings = movie_ratings.drop('timestamp')"
      ],
      "execution_count": 0,
      "outputs": []
    },
    {
      "cell_type": "markdown",
      "metadata": {
        "id": "6_SxY8-R1MCH",
        "colab_type": "text"
      },
      "source": [
        "### Fitting the Alternating Least Squares Model"
      ]
    },
    {
      "cell_type": "markdown",
      "metadata": {
        "id": "1Po6m9v_1MCH",
        "colab_type": "text"
      },
      "source": [
        "Because this dataset is already preprocessed for us, we can go ahead and fit the Alternating Least Squares model.\n",
        "\n",
        "* Import `ALS` from `pyspark.ml.recommendation` module \n",
        "* Use the `.randomSplit()` method on the pyspark DataFrame to separate the dataset into training and test sets\n",
        "* Fit the Alternating Least Squares Model to the training dataset. Make sure to set the `userCol`, `itemCol`, and `ratingCol` to the appropriate columns given this dataset. Then fit the data to the training set and assign it to a variable model  "
      ]
    },
    {
      "cell_type": "code",
      "metadata": {
        "id": "jyI5P79v1MCI",
        "colab_type": "code",
        "colab": {}
      },
      "source": [
        "from pyspark.ml.evaluation import RegressionEvaluator\n",
        "\n",
        "from pyspark.ml.recommendation import ALS \n",
        "\n",
        "# split into training and testing sets\n",
        "(training, test) = movie_ratings.randomSplit([0.8, 0.2])\n",
        "\n",
        "# Build the recommendation model using ALS on the training data\n",
        "# Note we set cold start strategy to 'drop' to ensure we don't get NaN evaluation metrics\n",
        "als = ALS(maxIter=5, \n",
        "          rank=4, \n",
        "          regParam=0.01, \n",
        "          userCol='userId', \n",
        "          itemCol='movieId', \n",
        "          ratingCol='rating', \n",
        "          coldStartStrategy='drop'\n",
        "          )\n",
        "\n",
        "# fit the ALS model to the training set\n",
        "model = als.fit(training)"
      ],
      "execution_count": 0,
      "outputs": []
    },
    {
      "cell_type": "markdown",
      "metadata": {
        "id": "Z5oONJVO1MCL",
        "colab_type": "text"
      },
      "source": [
        "Now you've fit the model, and it's time to evaluate it to determine just how well it performed.\n",
        "\n",
        "* Import `RegressionEvalutor` from `pyspark.ml.evaluation` \n",
        "* Generate predictions with your model for the test set by using the `.transform()` method on your ALS model \n",
        "* Evaluate your model and print out the RMSE from your test set "
      ]
    },
    {
      "cell_type": "code",
      "metadata": {
        "id": "aNaZ2Q6-1MCM",
        "colab_type": "code",
        "colab": {
          "base_uri": "https://localhost:8080/",
          "height": 34
        },
        "outputId": "6147a316-5822-4434-9b55-d9b083799361"
      },
      "source": [
        "# importing appropriate library\n",
        "from pyspark.ml.evaluation import RegressionEvaluator\n",
        "\n",
        "# Evaluate the model by computing the RMSE on the test data\n",
        "predictions = model.transform(test)\n",
        "evaluator = RegressionEvaluator(metricName='rmse', labelCol='rating',\n",
        "                                predictionCol='prediction')\n",
        "\n",
        "rmse = evaluator.evaluate(predictions)\n",
        "print('Root-mean-sqare error = ' + str(rmse))"
      ],
      "execution_count": 14,
      "outputs": [
        {
          "output_type": "stream",
          "text": [
            "Root-mean-sqare error = 0.9885126819518947\n"
          ],
          "name": "stdout"
        }
      ]
    },
    {
      "cell_type": "markdown",
      "metadata": {
        "id": "6wUyEhdJ1MCQ",
        "colab_type": "text"
      },
      "source": [
        "### Cross-validation to Find the Optimal Model\n",
        "\n",
        "Let's now find the optimal values for the parameters of the ALS model. Use the built-in `CrossValidator` in PySpark with a suitable param grid and determine the optimal model. Try with the parameters:\n",
        "\n",
        "* regularization = [0.01, 0.001, 0.1]\n",
        "* rank = [4, 10, 50]\n"
      ]
    },
    {
      "cell_type": "code",
      "metadata": {
        "id": "9m9u1ENW1MCR",
        "colab_type": "code",
        "colab": {
          "base_uri": "https://localhost:8080/",
          "height": 34
        },
        "outputId": "8719fcfa-723e-4898-8a4c-ade077cc6762"
      },
      "source": [
        "from pyspark.ml.tuning import CrossValidator, ParamGridBuilder\n",
        "\n",
        "# initialize the ALS model\n",
        "als_model = ALS(userCol='userId', itemCol='movieId', \n",
        "                ratingCol='rating', coldStartStrategy='drop')\n",
        "\n",
        "# create the parameter grid              \n",
        "params = ParamGridBuilder()\\\n",
        "    .addGrid(als_model.regParam, [0.01, 0.001, 0.1])\\\n",
        "    .addGrid(als_model.rank, [4, 10, 50]).build()\n",
        "\n",
        "# instantiating crossvalidator estimator\n",
        "cv = CrossValidator(estimator=als_model, estimatorParamMaps=params, \n",
        "                    evaluator=evaluator, parallelism=4)\n",
        "best_model = cv.fit(movie_ratings)\n",
        "\n",
        "# We see the best model has a rank of 50, so we will use that in our future models with this dataset\n",
        "best_model.bestModel.rank"
      ],
      "execution_count": 16,
      "outputs": [
        {
          "output_type": "execute_result",
          "data": {
            "text/plain": [
              "4"
            ]
          },
          "metadata": {
            "tags": []
          },
          "execution_count": 16
        }
      ]
    },
    {
      "cell_type": "markdown",
      "metadata": {
        "id": "b1acyvHR1MCU",
        "colab_type": "text"
      },
      "source": [
        "### Incorporating the names of the movies\n",
        "\n",
        "When we make recommendations, it would be ideal if we could have the actual name of the movie used rather than just an ID. There is another file called `'./data/movies.csv'` that contains all of the names of the movies matched up to the `movie_id` that we have in the ratings dataset.\n",
        "\n",
        "* Import the data into a Spark DataFrame \n",
        "* Look at the first 5 rows"
      ]
    },
    {
      "cell_type": "code",
      "metadata": {
        "id": "RR6xXCEE1MCU",
        "colab_type": "code",
        "colab": {
          "base_uri": "https://localhost:8080/",
          "height": 105
        },
        "outputId": "9e446882-e2b5-40c1-9ead-9e88745f1b97"
      },
      "source": [
        "movie_titles = spark.read.csv('/content/drive/My Drive/data/movies.csv',\n",
        "                              header='true', \n",
        "                              inferSchema='true')\n",
        "\n",
        "movie_titles.head(5)"
      ],
      "execution_count": 17,
      "outputs": [
        {
          "output_type": "execute_result",
          "data": {
            "text/plain": [
              "[Row(movieId=1, title='Toy Story (1995)', genres='Adventure|Animation|Children|Comedy|Fantasy'),\n",
              " Row(movieId=2, title='Jumanji (1995)', genres='Adventure|Children|Fantasy'),\n",
              " Row(movieId=3, title='Grumpier Old Men (1995)', genres='Comedy|Romance'),\n",
              " Row(movieId=4, title='Waiting to Exhale (1995)', genres='Comedy|Drama|Romance'),\n",
              " Row(movieId=5, title='Father of the Bride Part II (1995)', genres='Comedy')]"
            ]
          },
          "metadata": {
            "tags": []
          },
          "execution_count": 17
        }
      ]
    },
    {
      "cell_type": "markdown",
      "metadata": {
        "id": "JG-x4-rK1MCX",
        "colab_type": "text"
      },
      "source": [
        "We will eventually be matching up the movie ids with the movie titles. In the cell below, create a function `name_retriever()` that takes in a `movie_id` and returns a string that represents the movie title. \n",
        "\n",
        "> Hint: It's possible to do this operation in one line with the `df.where()` or the `df.filter()` methods "
      ]
    },
    {
      "cell_type": "code",
      "metadata": {
        "id": "sLy4O8V41MCY",
        "colab_type": "code",
        "colab": {}
      },
      "source": [
        "def name_retriever(movie_id, movie_title_df):\n",
        "    return movie_title_df.where(\n",
        "        movie_title_df.movieId == movie_id\n",
        "        ).take(1)[0]['title']"
      ],
      "execution_count": 0,
      "outputs": []
    },
    {
      "cell_type": "code",
      "metadata": {
        "id": "zeeolXdO1MCb",
        "colab_type": "code",
        "colab": {
          "base_uri": "https://localhost:8080/",
          "height": 34
        },
        "outputId": "0f01950d-e3c4-4d14-e7e6-35261d609a27"
      },
      "source": [
        "print(name_retriever(1023, movie_titles))"
      ],
      "execution_count": 19,
      "outputs": [
        {
          "output_type": "stream",
          "text": [
            "Winnie the Pooh and the Blustery Day (1968)\n"
          ],
          "name": "stdout"
        }
      ]
    },
    {
      "cell_type": "markdown",
      "metadata": {
        "id": "4S3Om39s1MCe",
        "colab_type": "text"
      },
      "source": [
        "## Getting Recommendations\n",
        "\n",
        "Now it's time to actually get some recommendations! The ALS model has built-in methods called `.recommendForUserSubset()` and `.recommendForAllUsers()`. We'll start off with using a subset of users. "
      ]
    },
    {
      "cell_type": "code",
      "metadata": {
        "id": "VW5OxAuG1MCf",
        "colab_type": "code",
        "colab": {}
      },
      "source": [
        "users = movie_ratings.select(als.getUserCol()).distinct().limit(1)\n",
        "userSubsetRecs = model.recommendForUserSubset(users, 10)\n",
        "recs = userSubsetRecs.take(1)"
      ],
      "execution_count": 0,
      "outputs": []
    },
    {
      "cell_type": "markdown",
      "metadata": {
        "id": "FhLPhO_p1MCi",
        "colab_type": "text"
      },
      "source": [
        "We can now see we have a list of rows with recommended items. Now try and get the name of the top recommended movie by way of the function you just created, using number one item for this user."
      ]
    },
    {
      "cell_type": "code",
      "metadata": {
        "id": "YYyHX5VI1MCi",
        "colab_type": "code",
        "colab": {
          "base_uri": "https://localhost:8080/",
          "height": 34
        },
        "outputId": "b721a0c6-7e6d-4c31-d3bf-bc35324b5655"
      },
      "source": [
        "# use indexing to obtain the movie id of top predicted rated item\n",
        "first_recommendation = recs[0]['recommendations'][0][0]\n",
        "\n",
        "# use the name retriever function to get the values\n",
        "name_retriever(first_recommendation,movie_titles)"
      ],
      "execution_count": 21,
      "outputs": [
        {
          "output_type": "execute_result",
          "data": {
            "text/plain": [
              "'Titanic (1953)'"
            ]
          },
          "metadata": {
            "tags": []
          },
          "execution_count": 21
        }
      ]
    },
    {
      "cell_type": "markdown",
      "metadata": {
        "id": "cU0Kr35w1MCl",
        "colab_type": "text"
      },
      "source": [
        "Of course, you can also make recommendations for everyone, although this will take longer. In the next line, we are creating an RDD with the top 5 recommendations for every user and then selecting one user to find out his predictions:"
      ]
    },
    {
      "cell_type": "code",
      "metadata": {
        "id": "2tKNm2y21MCm",
        "colab_type": "code",
        "colab": {
          "base_uri": "https://localhost:8080/",
          "height": 54
        },
        "outputId": "5b064b54-cb4d-4976-9507-814a3f73bbd0"
      },
      "source": [
        "recommendations = model.recommendForAllUsers(5)\n",
        "recommendations.where(recommendations.userId == 3).collect()"
      ],
      "execution_count": 22,
      "outputs": [
        {
          "output_type": "execute_result",
          "data": {
            "text/plain": [
              "[Row(userId=3, recommendations=[Row(movieId=112804, rating=7.543984889984131), Row(movieId=72171, rating=7.228778839111328), Row(movieId=7720, rating=7.219560146331787), Row(movieId=26171, rating=6.943698406219482), Row(movieId=4442, rating=6.913265228271484)])]"
            ]
          },
          "metadata": {
            "tags": []
          },
          "execution_count": 22
        }
      ]
    },
    {
      "cell_type": "markdown",
      "metadata": {
        "id": "iHmaTFCf1MCp",
        "colab_type": "text"
      },
      "source": [
        "### Getting Predictions for a New User\n",
        "\n",
        "Now, it's time to put together all that you've learned in this section to create a function that will take in a new user and some movies they've rated and then return $n$ number of highest recommended movies. This function will have multiple different steps to it:\n",
        "\n",
        "* Adding the new ratings into the DataFrame (hint: look into using the `.union()` method) \n",
        "* Fitting the ALS model  \n",
        "* Make recommendations for the user of choice \n",
        "* Print out the names of the top $n$ recommendations in a reader-friendly manner \n",
        "\n",
        "The function should take in the parameters: \n",
        "\n",
        "* `user_id` : int \n",
        "* `new_ratings` : list of tuples in the format (user_id, item_id, rating)\n",
        "* `rating_df` : spark DF containing ratings\n",
        "* `movie_title_df` : spark DF containing movie titles\n",
        "* `num_recs` : int"
      ]
    },
    {
      "cell_type": "markdown",
      "metadata": {
        "id": "PXnc468V1MCp",
        "colab_type": "text"
      },
      "source": [
        "Rate new movies\n",
        "\n",
        "```python\n",
        "[Row(movieId=3253, title='Wayne's World (1992)', genres='Comedy'),\n",
        " Row(movieId=2459, title='Texas Chainsaw Massacre, The (1974)', genres='Horror'),\n",
        " Row(movieId=2513, title='Pet Sematary (1989)', genres='Horror'),\n",
        " Row(movieId=6502, title='28 Days Later (2002)', genres='Action|Horror|Sci-Fi'),\n",
        " Row(movieId=1091, title='Weekend at Bernie's (1989)', genres='Comedy'),\n",
        "Row(movieId=441, title='Dazed and Confused (1993)', genres='Comedy'),\n",
        "Row(movieId=370, title='Naked Gun 33 1/3: The Final Insult (1994)', genres='Action|Comedy')]\n",
        "\n",
        "```"
      ]
    },
    {
      "cell_type": "code",
      "metadata": {
        "id": "Pwk_XEzO1MCq",
        "colab_type": "code",
        "colab": {}
      },
      "source": [
        "def new_user_recs(user_id, new_ratings, rating_df, movie_title_df, num_recs):\n",
        "    # turn the new_recommendations list into a spark DataFrame\n",
        "    new_user_ratings = spark.createDataFrame(new_ratings, \n",
        "                                             rating_df.columns)\n",
        "    \n",
        "    # combine the new ratings df with the rating_df\n",
        "    movie_ratings_combined = rating_df.union(new_user_ratings)\n",
        "    \n",
        "     # split the dataframe into a train and test set\n",
        "#     (training, test) = movie_ratings_combined.randomSplit([0.8, 0.2],seed=0)\n",
        "\n",
        "    # create an ALS model and fit it\n",
        "    als = ALS(maxIter=5,rank=50, \n",
        "              regParam=0.01, \n",
        "              userCol=\"userId\", \n",
        "              itemCol=\"movieId\", \n",
        "              ratingCol=\"rating\", \n",
        "              coldStartStrategy=\"drop\")\n",
        "    \n",
        "    model = als.fit(movie_ratings_combined)\n",
        "    # make recommendations for all users using the recommendForAllUsers method\n",
        "    recommendations = model.recommendForAllUsers(num_recs)\n",
        "    \n",
        "    # get recommendations specifically for the new user that has been added to the DataFrame\n",
        "    recs_for_user = recommendations.where(recommendations.userId == user_id).take(1)\n",
        "\n",
        "    for ranking, (movie_id, rating) in enumerate(recs_for_user[0]['recommendations']):\n",
        "        movie_string = name_retriever(movie_id,movie_title_df)\n",
        "        print('Recommendation {}: {}  | predicted score :{}'.format(ranking+1,movie_string,rating))\n",
        "        "
      ],
      "execution_count": 0,
      "outputs": []
    },
    {
      "cell_type": "code",
      "metadata": {
        "scrolled": false,
        "id": "LZahXP0u1MCv",
        "colab_type": "code",
        "colab": {
          "base_uri": "https://localhost:8080/",
          "height": 194
        },
        "outputId": "78bd6064-2be6-4a24-b5f6-70d0b8c3a1b0"
      },
      "source": [
        "# try out your function with the movies listed above\n",
        "user_id = 100000\n",
        "\n",
        "user_ratings_1 = [(user_id,3253,5),\n",
        "                  (user_id,2459,5),\n",
        "                  (user_id,2513,4),\n",
        "                  (user_id,6502,5),\n",
        "                  (user_id,1091,5),\n",
        "                  (user_id,441,4)]\n",
        "\n",
        "new_user_recs(user_id,\n",
        "             new_ratings=user_ratings_1,\n",
        "             rating_df=movie_ratings,\n",
        "             movie_title_df=movie_titles,\n",
        "             num_recs = 10)"
      ],
      "execution_count": 24,
      "outputs": [
        {
          "output_type": "stream",
          "text": [
            "Recommendation 1: Lord of the Rings: The Fellowship of the Ring, The (2001)  | predicted score :5.45496129989624\n",
            "Recommendation 2: Forrest Gump (1994)  | predicted score :5.408684253692627\n",
            "Recommendation 3: Lord of the Rings: The Two Towers, The (2002)  | predicted score :5.3655290603637695\n",
            "Recommendation 4: Princess Bride, The (1987)  | predicted score :5.328046798706055\n",
            "Recommendation 5: Life Is Beautiful (La Vita è bella) (1997)  | predicted score :5.326260566711426\n",
            "Recommendation 6: Lord of the Rings: The Return of the King, The (2003)  | predicted score :5.320669651031494\n",
            "Recommendation 7: What's Eating Gilbert Grape (1993)  | predicted score :5.272990703582764\n",
            "Recommendation 8: Up (2009)  | predicted score :5.2558112144470215\n",
            "Recommendation 9: Star Wars: Episode IV - A New Hope (1977)  | predicted score :5.2136759757995605\n",
            "Recommendation 10: Amadeus (1984)  | predicted score :5.189640522003174\n"
          ],
          "name": "stdout"
        }
      ]
    },
    {
      "cell_type": "markdown",
      "metadata": {
        "id": "PcNTQ7uT1MCy",
        "colab_type": "text"
      },
      "source": [
        "So here we have it! Our recommendation system is generating recommendations for the top 10 movies. \n",
        "\n",
        "\n",
        "\n",
        "\n",
        "## Level up (Optional)\n",
        "\n",
        "\n",
        "* Create a user interface to allow users to easily choose items and get recommendations \n",
        "\n",
        "* Use IMDB links to scrape user reviews from IMDB and using basic NLP techniques, create extra embeddings for ALS model  \n",
        "\n",
        "* Create a hybrid recommender system using features like genre \n",
        "\n",
        "## Summary\n",
        "\n",
        "In this lab, you built a model using Spark, performed some parameter selection, and updated the model every time new user preferences came in. You looked at how Spark's ALS implementation can be used to build a scalable and efficient recommendation system. You also saw that such systems can become computationally expensive and using them with an online system could be a problem with traditional computational platforms. Spark's distributed computing architecture provides a great solution to deploy such recommendation systems for real-world applications (think Amazon, Spotify)."
      ]
    }
  ]
}